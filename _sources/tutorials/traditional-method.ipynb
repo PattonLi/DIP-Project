{
 "cells": [
  {
   "cell_type": "markdown",
   "metadata": {},
   "source": [
    "# 传统的去阴影方法\n",
    "\n",
    "tradition\n"
   ]
  },
  {
   "cell_type": "code",
   "execution_count": 2,
   "metadata": {},
   "outputs": [
    {
     "data": {
      "text/plain": [
       "True"
      ]
     },
     "execution_count": 2,
     "metadata": {},
     "output_type": "execute_result"
    }
   ],
   "source": [
    "import cv2\n",
    "import numpy as np\n",
    "\n",
    "img = cv2.imread('../images/model-result/A-100-1.png', -1)\n",
    "\n",
    "rgb_planes = cv2.split(img)\n",
    "\n",
    "result_planes = []\n",
    "result_norm_planes = []\n",
    "for plane in rgb_planes:\n",
    "    dilated_img = cv2.dilate(plane, np.ones((7,7), np.uint8))\n",
    "    bg_img = cv2.medianBlur(dilated_img, 21)\n",
    "    diff_img = 255 - cv2.absdiff(plane, bg_img)\n",
    "    norm_img = cv2.normalize(diff_img,None, alpha=0, beta=255, norm_type=cv2.NORM_MINMAX, dtype=cv2.CV_8UC1)\n",
    "    result_planes.append(diff_img)\n",
    "    result_norm_planes.append(norm_img)\n",
    "    \n",
    "result = cv2.merge(result_planes)\n",
    "result_norm = cv2.merge(result_norm_planes)\n",
    "\n",
    "cv2.imwrite('../images/tradition/100-1.png', result)\n",
    "cv2.imwrite('../images/tradition/100-1-norm.png', result_norm)"
   ]
  },
  {
   "cell_type": "code",
   "execution_count": 3,
   "metadata": {},
   "outputs": [],
   "source": [
    "def method_v1(img):\n",
    "    img = cv2.cvtColor(img, cv2.COLOR_BGR2GRAY)\n",
    "    res = cv2.equalizeHist(img)\n",
    "\n",
    "    img = np.hstack([img, res])\n",
    "\n",
    "    return img\n",
    "\n",
    "\n",
    "def method_v2(img):\n",
    "    img = cv2.cvtColor(img, cv2.COLOR_BGR2GRAY)\n",
    "\n",
    "    # Less 'clipLimit' value less effect\n",
    "    clahe = cv2.createCLAHE(clipLimit=2.0, tileGridSize=(8,8))\n",
    "    res = clahe.apply(img)\n",
    "\n",
    "    img = np.hstack([img, res])\n",
    "\n",
    "    return img\n",
    "\n",
    "\n",
    "def method_v3(img):\n",
    "    img = cv2.cvtColor(img, cv2.COLOR_BGR2GRAY)\n",
    "\n",
    "    gamma = 0.6\n",
    "    res = np.power((img / 255.0), gamma) * 255\n",
    "    res = np.clip(res, 0, 255).astype(np.uint8)\n",
    "\n",
    "    img = np.hstack([img, res])\n",
    "\n",
    "    return img\n",
    "\n",
    "\n",
    "def create_clahe_grid_v1(img):\n",
    "    img = cv2.cvtColor(img, cv2.COLOR_BGR2GRAY)\n",
    "\n",
    "    grid_size = [1, 2, 4, 8, 16, 32]\n",
    "\n",
    "    res_list = []\n",
    "    res_list.append(img)\n",
    "    for sz in grid_size:\n",
    "        clahe = cv2.createCLAHE(clipLimit=2.0, tileGridSize=(sz, sz))\n",
    "        res = clahe.apply(img)\n",
    "        res_list.append(res)\n",
    "\n",
    "    img = np.hstack(res_list)\n",
    "\n",
    "    return img\n",
    "\n",
    "\n",
    "def create_clahe_grid_v2(img):\n",
    "    img = cv2.cvtColor(img, cv2.COLOR_BGR2GRAY)\n",
    "\n",
    "    clip_limit = [1, 2, 4, 8, 16, 32]\n",
    "\n",
    "    res_list = []\n",
    "    res_list.append(img)\n",
    "    for cl in clip_limit:\n",
    "        clahe = cv2.createCLAHE(clipLimit=cl, tileGridSize=(8, 8))\n",
    "        res = clahe.apply(img)\n",
    "        res_list.append(res)\n",
    "\n",
    "    img = np.hstack(res_list)\n",
    "\n",
    "    return img\n",
    "\n",
    "\n",
    "def create_gamma_correction_grid_v1(img):\n",
    "    img = cv2.cvtColor(img, cv2.COLOR_BGR2GRAY)\n",
    "\n",
    "    res_list = []\n",
    "    res_list.append(img)\n",
    "    gamma_list = [0.2, 0.4, 0.6, 0.8, 1.0] # lighter\n",
    "    #gamma_list = [1.2, 1.4, 1.6, 1.8, 2.0] # darker\n",
    "    for gamma in gamma_list:\n",
    "        res = np.power((img / 255.0), gamma) * 255\n",
    "        res = np.clip(res, 0, 255).astype(np.uint8)\n",
    "        res_list.append(res)\n",
    "\n",
    "    img = np.hstack(res_list)\n",
    "\n",
    "    return img\n"
   ]
  },
  {
   "cell_type": "code",
   "execution_count": 5,
   "metadata": {},
   "outputs": [
    {
     "data": {
      "text/plain": [
       "True"
      ]
     },
     "execution_count": 5,
     "metadata": {},
     "output_type": "execute_result"
    }
   ],
   "source": [
    "img_1 = create_clahe_grid_v2(img)\n",
    "cv2.imwrite('../images/tradition/100-1-clahe_grid_v2.png', img_1)"
   ]
  }
 ],
 "metadata": {
  "kernelspec": {
   "display_name": "base",
   "language": "python",
   "name": "python3"
  },
  "language_info": {
   "codemirror_mode": {
    "name": "ipython",
    "version": 3
   },
   "file_extension": ".py",
   "mimetype": "text/x-python",
   "name": "python",
   "nbconvert_exporter": "python",
   "pygments_lexer": "ipython3",
   "version": "3.10.9"
  }
 },
 "nbformat": 4,
 "nbformat_minor": 2
}
