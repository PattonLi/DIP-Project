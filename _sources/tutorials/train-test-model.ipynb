{
 "cells": [
  {
   "cell_type": "markdown",
   "metadata": {},
   "source": [
    "# 训练-测试 模型\n"
   ]
  },
  {
   "cell_type": "markdown",
   "metadata": {
    "vscode": {
     "languageId": "plaintext"
    }
   },
   "source": [
    "\n",
    "## 环境要求\n",
    "* Python 3.7\n",
    "* Pytorch 1.7\n",
    "* CUDA 11.1\n",
    "\n",
    "可以运行bash命令安装依赖\n",
    "```bash\n",
    "pip install -r requirements.txt\n",
    "```\n",
    "\n",
    "## 使用到的数据集\n",
    "* ISTD [[link]](https://github.com/DeepInsight-PCALab/ST-CGAN)  \n",
    "* ISTD+ [[link]](https://github.com/cvlab-stonybrook/SID)\n",
    "* SRD [[Training]](https://drive.google.com/file/d/1W8vBRJYDG9imMgr9I2XaA13tlFIEHOjS/view)[[Testing]](https://drive.google.com/file/d/1GTi4BmQ0SJ7diDMmf-b7x2VismmXtfTo/view)\n",
    "\n",
    "## 预训练模型权重\n",
    "* [ISTD](https://drive.google.com/file/d/1bHbkHxY5D5905BMw2jzvkzgXsFPKzSq4/view?usp=share_link) \n",
    "* [ISTD+](https://drive.google.com/file/d/10pBsJenoWGriZ9kjWOcE4l4Kzg-F1TFd/view?usp=share_link)\n",
    "* [SRD]()\n",
    "\n",
    "> 如果需要使用，请下载相应的预训练模型，并在test.py中修改weights路径。\n",
    "\n",
    "## Test\n",
    "\n",
    "> 可以直接测试预训练模型的性能,步骤：\n",
    "\n",
    "1. 修改数据集和预训练模型的路径。需要在test.py中修改以下路径\n",
    "\n",
    "```python\n",
    "input_dir # 阴影图像路径 -- 第27行\n",
    "weights # 预训练模型路径 -- 第31行\n",
    "```\n",
    "\n",
    "2. Test the model\n",
    "\n",
    "```python\n",
    "python test.py --save_images\n",
    "```\n",
    "输出结果在 `./results`.\n",
    "\n",
    "## Train\n",
    "\n",
    "1. 下载数据集并设置为以下结构\n",
    "```\n",
    "|-- ISTD_Dataset\n",
    "    |-- train\n",
    "        |-- train_A # shadow image\n",
    "        |-- train_B # shadow mask\n",
    "        |-- train_C # shadow-free GT\n",
    "    |-- test\n",
    "        |-- test_A # shadow image\n",
    "        |-- test_B # shadow mask\n",
    "        |-- test_C # shadow-free GT\n",
    "```\n",
    "\n",
    "2. 在option.py中修改以下项\n",
    "```python\n",
    "train_dir  # 训练集路径\n",
    "val_dir   # 测试集路径\n",
    "gpu: 0  # 模型使用的GPU，可以通过在此添加更多 GPU ID 来使用多个 GPU 进行训练。\n",
    "```\n",
    "\n",
    "3. Train the network\n",
    "如果您想在256X256的图像上训练网络：\n",
    "```python\n",
    "python train.py --warmup --win_size 8 --train_ps 256\n",
    "```\n",
    "或者在原始分辨率上训练，例如 ISTD 的 480X640：\n",
    "```python\n",
    "python train.py --warmup --win_size 10 --train_ps 320\n",
    "```\n"
   ]
  },
  {
   "cell_type": "markdown",
   "metadata": {},
   "source": [
    "## 训练结果\n",
    "\n",
    "\n",
    "<select onchange=\"changeImage(event)\">\n",
    "  <option value=\"image1\">图片1</option>\n",
    "  <option value=\"image2\">图片2</option>\n",
    "  <option value=\"image3\">图片3</option>\n",
    "</select>\n",
    "\n",
    "<img id=\"imageToShow\" src=\"\">\n",
    "\n",
    "<script>\n",
    "function changeImage(event) {\n",
    "  var selectedValue = event.target.value;\n",
    "  var imageToChange = document.getElementById(\"imageToShow\");\n",
    "  \n",
    "  if (selectedValue === \"image1\") {\n",
    "    imageToChange.src = \"../../../images/model-result/A-100-1.png\";\n",
    "  } else if (selectedValue === \"image2\") {\n",
    "    imageToChange.src = \"../../../images/model-result/B-100-1.png\";\n",
    "  } else if (selectedValue === \"image3\") {\n",
    "    imageToChange.src = \"../../../images/model-result/C-100-1.png\";\n",
    "  }\n",
    "}\n",
    "</script>"
   ]
  },
  {
   "cell_type": "markdown",
   "metadata": {},
   "source": [
    "## 更改图片的掩码查看效果\n",
    "\n"
   ]
  },
  {
   "cell_type": "code",
   "execution_count": 17,
   "metadata": {},
   "outputs": [
    {
     "name": "stdout",
     "output_type": "stream",
     "text": [
      "(480, 640)\n",
      "uint8\n"
     ]
    }
   ],
   "source": [
    "\n",
    "from PIL import Image\n",
    "import numpy as np\n",
    "\n",
    "\n",
    "# 读取图像\n",
    "image_path = '../images/different-mask/100-1.png'  # 替换为你自己的图片路径\n",
    "image = Image.open(image_path)\n",
    "\n",
    "# 将图像转换为 numpy 数组\n",
    "mask_array = np.array(image)\n",
    "\n",
    "# 输出矩阵的形状\n",
    "print(mask_array.shape)\n",
    "print(mask_array.dtype)\n",
    "# print(image_array[55])\n",
    "\n",
    "mask_ones = np.full(mask_array.shape,255,dtype=np.uint8)\n",
    "# print(img_ones[55])\n",
    "\n",
    "mask_zeros = np.full(mask_array.shape,0,dtype=np.uint8)\n",
    "# print(img_zeros[55])\n",
    "\n",
    "mask_reverse = np.zeros(mask_array.shape).astype(np.uint8)\n",
    "mask_reverse = np.where(mask_array==0,255,0)\n",
    "# print(mask_reverse[55])\n",
    "\n",
    "mask_random = (np.random.rand(*mask_array.shape)*255).astype(np.uint8)\n",
    "# print(mask_random[0])\n",
    "\n",
    "# 将矩阵转换为图像对象\n",
    "# mask_ones = Image.fromarray(mask_ones)\n",
    "# mask_ones.save('100-1-ones.png')\n",
    "# mask_zeros = Image.fromarray(mask_zeros)\n",
    "# mask_zeros.save('100-1-zeros.png')\n",
    "# mask_reverse = Image.fromarray(mask_reverse.astype('uint8'))\n",
    "# mask_reverse.save('./100-1-reverse.png')\n",
    "# mask_random = Image.fromarray(mask_random)\n",
    "# mask_random.save('100-1-random.png')\n",
    "\n",
    "# mask_reverse.show()"
   ]
  }
 ],
 "metadata": {
  "kernelspec": {
   "display_name": "base",
   "language": "python",
   "name": "python3"
  },
  "language_info": {
   "codemirror_mode": {
    "name": "ipython",
    "version": 3
   },
   "file_extension": ".py",
   "mimetype": "text/x-python",
   "name": "python",
   "nbconvert_exporter": "python",
   "pygments_lexer": "ipython3",
   "version": "3.10.9"
  }
 },
 "nbformat": 4,
 "nbformat_minor": 2
}
