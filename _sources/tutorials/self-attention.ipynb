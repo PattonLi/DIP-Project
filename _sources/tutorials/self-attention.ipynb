{
 "cells": [
  {
   "cell_type": "markdown",
   "metadata": {},
   "source": [
    "# 注意力机制\n",
    "\n",
    "## 缩放点积注意力（scaled dot product）\n",
    "\n",
    "缩放点积注意力是一种注意力机制，其中点积按 $\\sqrt{d_k}$ 比例缩小.\n",
    "\n",
    "如果我们有 a query $Q$, a key $K$ and a value $V$ ，计算attention的公式为:\n",
    "\n",
    "```{tip}\n",
    "\n",
    "$$\n",
    "\\text{Attention}(Q,K,V)=\\text{softmax}\\biggl(\\frac{QK^T}{\\sqrt{d_k}}\\biggr)V\n",
    "$$\n",
    "\n",
    "```\n",
    "\n",
    "\n",
    "我们假设 $q$ 和 $k$ 是 $d_k$-dimensional 向量，其分量是均值为0，方差为1的独立随机变量，那么它们的点积为$q\\cdot k=\\sum_{i=1}^{dk}u_iv_i$ 均值为 0 同时方差为\n",
    " $d_k$.\n",
    " \n",
    "因为我们希望这些值的方差为1, 所以将计算结果除以 $\\sqrt{d_k}$\n"
   ]
  },
  {
   "cell_type": "markdown",
   "metadata": {},
   "source": [
    " ```{figure} ../images/attention/scaled-dot-product-attention.png\n",
    ":width: 400px\n",
    ":align: center\n",
    ":name: my-fig-ref\n",
    "\n",
    "scaled dot product.\n",
    "```"
   ]
  },
  {
   "cell_type": "markdown",
   "metadata": {},
   "source": [
    "## 代码\n",
    "\n",
    "> 下面是一个简单的pytorch对应实现："
   ]
  },
  {
   "cell_type": "code",
   "execution_count": 12,
   "metadata": {},
   "outputs": [],
   "source": [
    "import torch\n",
    "import torch.nn as nn\n",
    "import torch.nn.functional as F\n",
    "\n",
    "class ScaledDotProductAttention(nn.Module):\n",
    "    ''' Scaled Dot-Product Attention '''\n",
    "\n",
    "    def __init__(self, temperature, attn_dropout=0.1):\n",
    "        super().__init__()\n",
    "        self.temperature = temperature\n",
    "        self.dropout = nn.Dropout(attn_dropout)\n",
    "\n",
    "    def forward(self, q, k, v, mask=None):\n",
    "        # 计算注意力权重\n",
    "        attn = torch.matmul(q / self.temperature, k.transpose(1, 2))\n",
    "        \n",
    "        if mask is not None:\n",
    "            # 对未被掩码的位置设置一个极大的负数，以将注意力权重置为0\n",
    "            attn = attn.masked_fill(mask == 0, -1e9)\n",
    "\n",
    "        # 对注意力权重进行归一化处理（通过softmax函数）\n",
    "        attn = self.dropout(F.softmax(attn, dim=-1))\n",
    "        # 计算加权后的输出\n",
    "        output = torch.matmul(attn, v)\n",
    "\n",
    "        return output, attn\n"
   ]
  },
  {
   "cell_type": "code",
   "execution_count": 13,
   "metadata": {},
   "outputs": [
    {
     "name": "stdout",
     "output_type": "stream",
     "text": [
      "Output Shape: torch.Size([2, 3, 4])\n",
      "Attention Shape: torch.Size([2, 3, 3])\n"
     ]
    }
   ],
   "source": [
    "# 测试一下这个模块\n",
    "\n",
    "# 创建输入张量\n",
    "q = torch.randn(2, 3, 4)  # (batch_size, query_len, query_dim)\n",
    "k = torch.randn(2, 3, 4)  # (batch_size, key_len, key_dim)\n",
    "v = torch.randn(2, 3, 4)  # (batch_size, value_len, value_dim)\n",
    "mask = torch.ones(2, 3,3)  # (batch_size, query_len, key_len)\n",
    "\n",
    "# 创建ScaledDotProductAttention模块\n",
    "attention = ScaledDotProductAttention(temperature=0.5)\n",
    "\n",
    "# 前向传播\n",
    "output, attn = attention(q, k, v, mask)\n",
    "\n",
    "# 输出每个过程中的形状\n",
    "print(\"Output Shape:\", output.shape)\n",
    "print(\"Attention Shape:\", attn.shape)"
   ]
  },
  {
   "cell_type": "markdown",
   "metadata": {},
   "source": [
    "## 自注意力（self attention）\n",
    "\n",
    ">Self Attention在2017年由Google机器翻译团队发表的《Attention is All You Need》中被提出，它完全抛弃了RNN和CNN等网络结构，而仅采用新提出的Self Attention机制来处理机器翻译任务，并且取得了很好的效果。\n",
    "\n",
    "在Encoder-Decoder框架下，广义的attention机制中的输入Source和输出Target内容是不一样的，以英-中机器翻译为例，Source是英文句子，Target是对应的翻译出的中文句子，Attention机制发生在Target的元素和Source中的所有元素之间。此时Query来自Target，Key和Value来自Source。\n",
    "\n",
    "而Self Attention顾名思义，指**不是Target和Source之间做Attend，而是Source内部元素之间或者Target内部元素之间发生的Attention机制，此时Query、Key和Value都来自Target或Source。**\n"
   ]
  },
  {
   "cell_type": "markdown",
   "metadata": {},
   "source": [
    "\n",
    " ```{figure} ../images/attention/muti-head-attention.png\n",
    ":width: 300px\n",
    ":align: center\n",
    ":name: aaa\n",
    "\n",
    "Self attention.\n",
    "```\n",
    "\n",
    "[参考链接](https://paperswithcode.com/method/scaled)\n",
    "\n",
    "这里有一个GIF展示了这个流程\n",
    "\n",
    " ```{figure} ../images/attention/SF.gif\n",
    ":width: 600px\n",
    ":align: center\n",
    ":name: aaa\n",
    "\n",
    "Gif.\n",
    "```"
   ]
  },
  {
   "cell_type": "markdown",
   "metadata": {},
   "source": [
    "## 代码\n",
    "\n",
    "以下是一个官方paper的实现"
   ]
  },
  {
   "cell_type": "code",
   "execution_count": 17,
   "metadata": {},
   "outputs": [],
   "source": [
    "import numpy as np\n",
    "import torch.nn as nn\n",
    "import torch.nn.functional as F\n",
    "\n",
    "class MultiHeadAttention(nn.Module):\n",
    "    ''' Multi-Head Attention module '''\n",
    "\n",
    "    def __init__(self, n_head, d_model, d_k, d_v, dropout=0.1):\n",
    "        super().__init__()\n",
    "\n",
    "        self.n_head = n_head\n",
    "        self.d_k = d_k\n",
    "        self.d_v = d_v\n",
    "\n",
    "        self.w_qs = nn.Linear(d_model, n_head * d_k, bias=False)\n",
    "        self.w_ks = nn.Linear(d_model, n_head * d_k, bias=False)\n",
    "        self.w_vs = nn.Linear(d_model, n_head * d_v, bias=False)\n",
    "        self.fc = nn.Linear(n_head * d_v, d_model, bias=False)\n",
    "\n",
    "        self.attention = ScaledDotProductAttention(temperature=d_k ** 0.5)\n",
    "\n",
    "        self.dropout = nn.Dropout(dropout)\n",
    "        self.layer_norm = nn.LayerNorm(d_model, eps=1e-6)\n",
    "\n",
    "\n",
    "    def forward(self, q, k, v, mask=None):\n",
    "\n",
    "        d_k, d_v, n_head = self.d_k, self.d_v, self.n_head\n",
    "        sz_b, len_q, len_k, len_v = q.size(0), q.size(1), k.size(1), v.size(1)\n",
    "\n",
    "        residual = q\n",
    "\n",
    "        # Pass through the pre-attention projection: b x lq x (n*dv)\n",
    "        # Separate different heads: b x lq x n x dv\n",
    "        q = self.w_qs(q).view(sz_b, len_q, n_head, d_k)\n",
    "        k = self.w_ks(k).view(sz_b, len_k, n_head, d_k)\n",
    "        v = self.w_vs(v).view(sz_b, len_v, n_head, d_v)\n",
    "\n",
    "        # Transpose for attention dot product: b x n x lq x dv\n",
    "        q, k, v = q.transpose(1, 2), k.transpose(1, 2), v.transpose(1, 2)\n",
    "\n",
    "        if mask is not None:\n",
    "            mask = mask.unsqueeze(1)   # For head axis broadcasting.\n",
    "\n",
    "        q, attn = self.attention(q, k, v, mask=mask)\n",
    "\n",
    "        # Transpose to move the head dimension back: b x lq x n x dv\n",
    "        # Combine the last two dimensions to concatenate all the heads together: b x lq x (n*dv)\n",
    "        q = q.transpose(1, 2).contiguous().view(sz_b, len_q, -1)\n",
    "        q = self.dropout(self.fc(q))\n",
    "        q += residual\n",
    "\n",
    "        q = self.layer_norm(q)\n",
    "\n",
    "        return q, attn\n"
   ]
  }
 ],
 "metadata": {
  "kernelspec": {
   "display_name": "base",
   "language": "python",
   "name": "python3"
  },
  "language_info": {
   "codemirror_mode": {
    "name": "ipython",
    "version": 3
   },
   "file_extension": ".py",
   "mimetype": "text/x-python",
   "name": "python",
   "nbconvert_exporter": "python",
   "pygments_lexer": "ipython3",
   "version": "3.10.9"
  }
 },
 "nbformat": 4,
 "nbformat_minor": 2
}
